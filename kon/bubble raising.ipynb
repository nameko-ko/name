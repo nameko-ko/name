{
 "cells": [
  {
   "cell_type": "code",
   "execution_count": 1,
   "metadata": {},
   "outputs": [
    {
     "name": "stdout",
     "output_type": "stream",
     "text": [
      "動画の幅:  1920.0\n",
      "動画の高さ:  1080.0\n",
      "総フレーム数:  3449.0\n",
      "fps:  29.97002997002997\n",
      "動画の長さ:  115.08163333333333 [sec]\n"
     ]
    }
   ],
   "source": [
    "import cv2\n",
    "import sys\n",
    "import numpy as np\n",
    "import matplotlib.pyplot as plt\n",
    "import csv\n",
    "import math\n",
    "\n",
    "# ビデオデータのパス\n",
    "video_path = \"C:\\\\Users\\\\flow\\\\Desktop\\\\bubbledate\\\\00089.mp4\"\n",
    "\n",
    "# 動画の読み込み\n",
    "cap = cv2.VideoCapture(filename=video_path)\n",
    "\n",
    "# 動画ファイルの情報を取得\n",
    "video_width = cap.get(cv2.CAP_PROP_FRAME_WIDTH)\n",
    "video_height = cap.get(cv2.CAP_PROP_FRAME_HEIGHT)\n",
    "total_frames = cap.get(cv2.CAP_PROP_FRAME_COUNT)\n",
    "fps = cap.get(cv2.CAP_PROP_FPS)\n",
    "\n",
    "# 動画情報を表示\n",
    "print(\"動画の幅: \", video_width)\n",
    "print(\"動画の高さ: \", video_height)\n",
    "print(\"総フレーム数: \", total_frames)\n",
    "print(\"fps: \", fps)\n",
    "print(\"動画の長さ: \", total_frames / fps, \"[sec]\")\n"
   ]
  },
  {
   "cell_type": "code",
   "execution_count": 7,
   "metadata": {},
   "outputs": [
    {
     "name": "stdout",
     "output_type": "stream",
     "text": [
      "C:\\Users\\flow\\Desktop\\bubble_rasing_result\\image C:\\Users\\flow\\Desktop\\bubble_rasing_result\\area C:\\Users\\flow\\Desktop\\bubble_rasing_result\\contours C:\\Users\\flow\\Desktop\\bubble_rasing_result\\moment C:\\Users\\flow\\Desktop\\bubble_rasing_result\\image\n"
     ]
    }
   ],
   "source": [
    "import os\n",
    "\n",
    "# ルートフォルダーのパス\n",
    "root_path = \"C:\\\\Users\\\\flow\\\\Desktop\\\\bubble_rasing_result\"\n",
    "\n",
    "# サブフォルダーの名前\n",
    "image_folder = \"image\"\n",
    "area_folder = \"area\"\n",
    "contours_folder = \"contours\"\n",
    "moment_folder = \"moment\"\n",
    "\n",
    "# フォルダーのパスを連結\n",
    "path = os.path.join(root_path, image_folder)\n",
    "path1 = os.path.join(root_path, area_folder)\n",
    "path2 = os.path.join(root_path, contours_folder)\n",
    "path3 = os.path.join(root_path, moment_folder)\n",
    "\n",
    "print(path,path1,path2,path3,path)\n",
    "\n",
    "# パスとして使用する画像番号の桁数（3桁として扱う）\n",
    "image_number_digits = 3\n",
    "\n",
    "# 2値化の閾値として使用する値（この値を調整して結果を確認できます）\n",
    "threshold_value = 70\n",
    "\n",
    "# 輪郭のインデックス（面積順にソートされるため、0が最大の面積の輪郭になる）\n",
    "contour_index = 2"
   ]
  },
  {
   "cell_type": "code",
   "execution_count": 8,
   "metadata": {},
   "outputs": [],
   "source": [
    "def process_image(frame, num, path, path1, path3, cx_list, cy_list, area_list, number_list):\n",
    "    # 画像を保存\n",
    "    image_path = os.path.join(path, f\"picture{num:0={image_number_digits}}.bmp\")\n",
    "    cv2.imwrite(image_path, frame)\n",
    "\n",
    "    # 画像を読み込み\n",
    "    img1 = cv2.imread(image_path)\n",
    "    # グレースケールに変換\n",
    "    gray = cv2.cvtColor(img1, cv2.COLOR_BGR2GRAY) \n",
    "    # 平滑化\n",
    "    blur = cv2.bilateralFilter(gray, 5, 10, 10)\n",
    "    # グレースケール画像を保存\n",
    "    gray_path = os.path.join(path, f\"graypicture{num:0={image_number_digits}}.bmp\")\n",
    "    cv2.imwrite(gray_path, blur)\n",
    "\n",
    "    # 2値化する\n",
    "    ret, binary = cv2.threshold(blur, threshold_value, 255, cv2.THRESH_BINARY_INV + cv2.THRESH_OTSU)\n",
    "    binary_path = os.path.join(path, f\"nichipicture{num:0={image_number_digits}}.bmp\")\n",
    "    cv2.imwrite(binary_path, binary)\n",
    "\n",
    "    # 輪郭を検出\n",
    "    contours, hierarchy = cv2.findContours(binary, cv2.RETR_TREE, cv2.CHAIN_APPROX_NONE)\n",
    "    contours.sort(key=lambda x: cv2.contourArea(x), reverse=True)\n",
    "\n",
    "    # 輪郭を描画\n",
    "    img2 = cv2.imread(image_path)\n",
    "    cv2.drawContours(img2, [contours[contour_index]], -1, (0, 255, 0), 2)\n",
    "    rinkaku_path = os.path.join(path1, f\"rinkakupicture{num:0={image_number_digits}}.bmp\")\n",
    "    cv2.imwrite(rinkaku_path, img2)\n",
    "\n",
    "    # 輪郭の情報を取得\n",
    "    cnt = contours[contour_index]\n",
    "    area = cv2.contourArea(cnt)\n",
    "    M = cv2.moments(cnt)\n",
    "    cx = int(M['m10'] / M['m00'])\n",
    "    cy = int(M['m01'] / M['m00'])\n",
    "\n",
    "    # 重心を描画\n",
    "    moment = cv2.imread(image_path)\n",
    "    cv2.circle(moment, (cx, cy), 8, (0, 0, 255), -1)\n",
    "\n",
    "    # 輪郭を描画\n",
    "    contour_img = cv2.imread(image_path)\n",
    "    cv2.drawContours(contour_img, [cnt], -1, (0, 255, 0), 2)\n",
    "\n",
    "    # 重心と輪郭を結合して保存\n",
    "    combined_img = cv2.addWeighted(moment, 0.5, contour_img, 0.5, 0)\n",
    "\n",
    "    # 保存するファイルパス\n",
    "    combined_img_path = os.path.join(path3, f\"moment_with_contour{num:0={image_number_digits}}.bmp\")\n",
    "    cv2.imwrite(combined_img_path, combined_img)\n",
    "\n",
    "    # リストに追加\n",
    "    cx_list.append(cx)\n",
    "    cy_list.append(cy)\n",
    "    area_list.append(area)\n",
    "    number_list.append(num)\n",
    "\n",
    "    return cx_list, cy_list, area_list, number_list"
   ]
  },
  {
   "cell_type": "code",
   "execution_count": null,
   "metadata": {},
   "outputs": [],
   "source": []
  }
 ],
 "metadata": {
  "kernelspec": {
   "display_name": "kon",
   "language": "python",
   "name": "python3"
  },
  "language_info": {
   "codemirror_mode": {
    "name": "ipython",
    "version": 3
   },
   "file_extension": ".py",
   "mimetype": "text/x-python",
   "name": "python",
   "nbconvert_exporter": "python",
   "pygments_lexer": "ipython3",
   "version": "3.10.9"
  },
  "orig_nbformat": 4
 },
 "nbformat": 4,
 "nbformat_minor": 2
}
