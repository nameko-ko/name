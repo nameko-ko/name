{
 "metadata": {
  "language_info": {
   "codemirror_mode": {
    "name": "ipython",
    "version": 3
   },
   "file_extension": ".py",
   "mimetype": "text/x-python",
   "name": "python",
   "nbconvert_exporter": "python",
   "pygments_lexer": "ipython3",
   "version": "3.10.9-final"
  },
  "orig_nbformat": 2,
  "kernelspec": {
   "name": "python3",
   "display_name": "Python 3.10.9 64-bit ('anaconda3': virtualenv)",
   "metadata": {
    "interpreter": {
     "hash": "ee6896bc3a11069fbff3b6b2a5ebd8d6ea5175325e02eb9e4ca03da00172d5d0"
    }
   }
  }
 },
 "nbformat": 4,
 "nbformat_minor": 2,
 "cells": [
  {
   "cell_type": "code",
   "execution_count": 3,
   "metadata": {},
   "outputs": [
    {
     "output_type": "stream",
     "name": "stdout",
     "text": [
      "2\n3\n4\n5\n6\n7\n8\n9\n10\n11\n12\n13\n14\n15\n16\n17\n18\n19\n20\n21\n22\n23\n24\n25\nwritten\n"
     ]
    }
   ],
   "source": [
    "#使えない\n",
    "import sys\n",
    "import cv2\n",
    "\n",
    "# encoder(for mp4)\n",
    "fourcc = cv2.VideoWriter_fourcc('m', 'p', '4', 'v')\n",
    "# output file name, encoder, fps, size(fit to image size)\n",
    "video = cv2.VideoWriter('video.mp4',fourcc, 20.0, (1240, 1360))\n",
    "\n",
    "if not video.isOpened():\n",
    "    print(\"can't be opened\")\n",
    "    sys.exit()\n",
    "\n",
    "for i in range(2, 25+1):\n",
    "    # hoge0000.png, hoge0001.png,..., hoge0090.png\n",
    "    img = cv2.imread('/Users/nametakouhei/name/画像ファイル/保存データ/四面体/Processed_image/image_%d.png' % i)\n",
    "    img = cv2.resize(img, (640,480))\n",
    "\n",
    "    # can't read image, escape\n",
    "    if img is None:\n",
    "        print(\"can't read\")\n",
    "        break\n",
    "\n",
    "    # add\n",
    "    video.write(img)\n",
    "    print(i)\n",
    "\n",
    "video.release()\n",
    "print('written')"
   ]
  },
  {
   "cell_type": "code",
   "execution_count": 9,
   "metadata": {},
   "outputs": [],
   "source": [
    "import glob\n",
    "\n",
    "import cv2\n",
    "\n",
    "import re\n",
    "\n",
    "def atoi(text):\n",
    "    return int(text) if text.isdigit() else text\n",
    "\n",
    "def natural_keys(text):\n",
    "    return [ atoi(c) for c in re.split(r'(\\d+)', text) ]\n",
    "\n",
    "img_array = []\n",
    "for filename in sorted(glob.glob(\"/Users/nametakouhei/name/画像ファイル/保存データ/四面体/Predicted_Contour/*.jpg\"), key=natural_keys):\n",
    "    img = cv2.imread(filename)\n",
    "    height, width, layers = img.shape\n",
    "    size = (width, height)\n",
    "    img_array.append(img)\n",
    "\n",
    "name = 'project.mp4'\n",
    "out = cv2.VideoWriter(name, cv2.VideoWriter_fourcc(*'mp4v'), 5.0, size)\n",
    "\n",
    "for i in range(len(img_array)):\n",
    "    out.write(img_array[i])\n",
    "out.release()"
   ]
  },
  {
   "cell_type": "code",
   "execution_count": null,
   "metadata": {},
   "outputs": [],
   "source": []
  }
 ]
}